{
 "cells": [
  {
   "cell_type": "code",
   "execution_count": 4,
   "id": "3ad47cba",
   "metadata": {},
   "outputs": [
    {
     "name": "stdout",
     "output_type": "stream",
     "text": [
      "[Errno 2] No such file or directory: 'thanuja'\n"
     ]
    }
   ],
   "source": [
    "class Employee:\n",
    "    Name=None\n",
    "    age=None\n",
    "    sal=None\n",
    "    def display_Employee(self,filename):\n",
    "        try:\n",
    "            f=open(filename,'w')\n",
    "            f.write(f\"Employee_name,{self.Name}\\n\")\n",
    "            f.write(f\"Employee_age:{self.age}\\n\")\n",
    "            f.write(f\"Employee_sal:{self.sal}\\n\")\n",
    "            f.close()\n",
    "        except Exception as e:\n",
    "            print(f\"{e}\")\n",
    "    def write_data(self,filename):\n",
    "        try:\n",
    "            f=open(filename ,'r')\n",
    "            f.readlines(f\"employee_Name:{self.Name}\")\n",
    "            f.readlines(f\"Employee_age:{self.age}\")\n",
    "            f.readlines(f'Employee_sal:{self.sal}')\n",
    "            f.close()\n",
    "        except Exception as v:\n",
    "            print(f\"{v}\")\n",
    "E1=Employee()\n",
    "E1.display_Employee(\"Employee.txt\")\n",
    "E1.write_data('thanuja')\n",
    "        \n"
   ]
  }
 ],
 "metadata": {
  "kernelspec": {
   "display_name": "Python 3",
   "language": "python",
   "name": "python3"
  },
  "language_info": {
   "codemirror_mode": {
    "name": "ipython",
    "version": 3
   },
   "file_extension": ".py",
   "mimetype": "text/x-python",
   "name": "python",
   "nbconvert_exporter": "python",
   "pygments_lexer": "ipython3",
   "version": "3.13.3"
  }
 },
 "nbformat": 4,
 "nbformat_minor": 5
}
